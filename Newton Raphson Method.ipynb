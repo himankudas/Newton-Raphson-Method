{
 "cells": [
  {
   "cell_type": "code",
   "execution_count": 1,
   "metadata": {},
   "outputs": [],
   "source": [
    "# Importing Libraries\n",
    "\n",
    "from py_vollib.black_scholes import black_scholes as bs\n",
    "from py_vollib.black_scholes.greeks.analytical import vega\n",
    "import matplotlib.pyplot as plt\n",
    "import matplotlib.animation as animation\n",
    "import numpy as np\n",
    "from IPython.display import HTML, Image # For GIF\n",
    "from matplotlib import rc\n",
    "rc('animation', html='jshtml')"
   ]
  },
  {
   "cell_type": "code",
   "execution_count": 2,
   "metadata": {},
   "outputs": [],
   "source": [
    "# Defining the Implied Volatity Function\n",
    "\n",
    "#Compute the implied volatility of a European Option and add use the following variables\n",
    "\n",
    "\"\"\"\"\n",
    "S0: initial stock price\n",
    "K:  strike price\n",
    "T:  maturity\n",
    "r:  risk-free rate\n",
    "market_price: option price in market\n",
    "tol: user choosen tolerance\n",
    "\"\"\"\n",
    "\n",
    "# We will also add a flag for 'c' for call and 'p' for put\n",
    "\n",
    "def implied_vol(S0, K, T, r, market_price, flag='c', tol=0.00001):\n",
    "  \n",
    "    max_iter = 200 #max number of iterations\n",
    "    vol_old = 0.30 #initial guess\n",
    "\n",
    "    # We will calcualte the Black Scholes price, Vega and Initial Volatility\n",
    "\n",
    "    for k in range(max_iter):\n",
    "        bs_price = bs(flag, S0, K, T, r, vol_old)\n",
    "        Cprime =  vega(flag, S0, K, T, r, vol_old)*100 # We will multiply by 100 because of this specific module output\n",
    "        C = bs_price - market_price\n",
    "        \n",
    "        \n",
    "        vol_new = vol_old - C/Cprime\n",
    "        bs_new = bs(flag, S0, K, T, r, vol_new)\n",
    "        \n",
    "        if (abs(vol_old - vol_new) < tol or abs(bs_new - market_price) < tol):\n",
    "            break\n",
    "\n",
    "        vol_old = vol_new\n",
    "    implied_vol = vol_old\n",
    "\n",
    "    return implied_vol"
   ]
  },
  {
   "cell_type": "code",
   "execution_count": 3,
   "metadata": {},
   "outputs": [],
   "source": [
    "# Add the values for an Exampls\n",
    "\n",
    "S0, K, T, r = 30, 28, 0.2, 0.025\n",
    "\n",
    "market_price = 5.00\n",
    "implied_vol_est = implied_vol(S0, K, T, r, market_price, flag='c')\n"
   ]
  },
  {
   "cell_type": "code",
   "execution_count": 4,
   "metadata": {},
   "outputs": [
    {
     "name": "stdout",
     "output_type": "stream",
     "text": [
      "Implied Volatility is :  75.0 %\n"
     ]
    }
   ],
   "source": [
    "# Print the Implied Volatility\n",
    " \n",
    "print(\"Implied Volatility is : \", round(implied_vol_est,2)*100, \"%\")"
   ]
  }
 ],
 "metadata": {
  "kernelspec": {
   "display_name": "Finance",
   "language": "python",
   "name": "python3"
  },
  "language_info": {
   "codemirror_mode": {
    "name": "ipython",
    "version": 3
   },
   "file_extension": ".py",
   "mimetype": "text/x-python",
   "name": "python",
   "nbconvert_exporter": "python",
   "pygments_lexer": "ipython3",
   "version": "3.7.15"
  },
  "orig_nbformat": 4,
  "vscode": {
   "interpreter": {
    "hash": "24a8234a87afe7248887c787e711ce88d51a96f7383d7061ef016c190de3affa"
   }
  }
 },
 "nbformat": 4,
 "nbformat_minor": 2
}
